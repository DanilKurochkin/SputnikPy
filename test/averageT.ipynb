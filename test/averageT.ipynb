{
 "cells": [
  {
   "cell_type": "code",
   "execution_count": 72,
   "metadata": {},
   "outputs": [],
   "source": [
    "import numpy as np\n",
    "#зенит, надир, перпенд1, перперн2, теневая, солнечная\n",
    "\n",
    "As = np.array([0.3, 0.4, 0.4, 0.4, 0.4, 0.3]) #\n",
    "e = np.array([0.9, 0.1, 0.1, 0.1, 0.1, 0.9]) #\n",
    "\n",
    "qs = np.float64(1367)\n",
    "\n",
    "Lx = np.float64(1)\n",
    "Ly = np.float64(1)\n",
    "Lz = np.float64(1)\n",
    "\n",
    "externalHeatAverage = np.float64(300*1000/5668) + np.float64(300)\n",
    "\n",
    "orbitRadius = np.float64(500)"
   ]
  },
  {
   "cell_type": "code",
   "execution_count": 73,
   "metadata": {},
   "outputs": [],
   "source": [
    "orbitRadius *= 1000\n",
    "earthRaduius = np.float64(6371000)\n",
    "angleSunSet = np.arccos(earthRaduius/(earthRaduius+orbitRadius))\n",
    "sigma = np.float64(5.67*10**(-8))\n",
    "\n",
    "areas = np.array([Ly*Lz, Ly*Lz,\n",
    "                Lx*Lz, Lx*Lz,\n",
    "                Lx*Ly, Lx*Ly])\n",
    "summarHeat = 0\n",
    "summarHeat += areas[0] * As[0] #зенит\n",
    "summarHeat += areas[5] * As[5] #солнечная до 6 часов\n",
    "summarHeat += np.sin(angleSunSet) * areas[1] * As[1] #надир после 6 часов\n",
    "summarHeat += (1 - np.cos(angleSunSet)) * areas[5] * As[5] #после до 6 часов\n",
    "summarHeat *= qs/np.pi\n",
    "\n",
    "summarHeat += externalHeatAverage"
   ]
  },
  {
   "cell_type": "code",
   "execution_count": 74,
   "metadata": {},
   "outputs": [],
   "source": [
    "summarRadiation = 0\n",
    "\n",
    "for i in np.arange(len(areas)):\n",
    "    summarRadiation += areas[i] * e[i] * sigma"
   ]
  },
  {
   "cell_type": "code",
   "execution_count": 75,
   "metadata": {},
   "outputs": [],
   "source": [
    "averageT = (summarHeat/summarRadiation)**(0.25)"
   ]
  },
  {
   "cell_type": "code",
   "execution_count": 76,
   "metadata": {},
   "outputs": [
    {
     "name": "stdout",
     "output_type": "stream",
     "text": [
      "Средневитковое [количество теплоты/c] : 688.6866740700248\n",
      "Суммарный коэффициент излучения: 2.1999999999999997\n",
      "Средняя температура: 272.5862750557949\n",
      "Угол захода: 0.38384819529001624\n"
     ]
    }
   ],
   "source": [
    "print(f\"Средневитковое [количество теплоты/c] : {summarHeat}\")\n",
    "print(f\"Суммарный коэффициент излучения: {summarRadiation/sigma}\")\n",
    "print(f\"Средняя температура: {averageT}\")\n",
    "print(f\"Угол захода: {angleSunSet}\")"
   ]
  },
  {
   "cell_type": "code",
   "execution_count": 77,
   "metadata": {},
   "outputs": [
    {
     "name": "stdout",
     "output_type": "stream",
     "text": [
      "dA:-737400.4425333213\n",
      "Ночной перепад от среднего: -11.379636458847552\n",
      "Ожидаемый минимум:261.20663859694736\n"
     ]
    }
   ],
   "source": [
    "orbitPeriod = 5668\n",
    "width = 0.005\n",
    "p = 2700\n",
    "cp = 800\n",
    "mass = np.sum(areas) * width * p\n",
    "\n",
    "\n",
    "tNight = orbitPeriod * (np.pi/2 - angleSunSet)/(2*np.pi)\n",
    "deltaA = -summarHeat*tNight\n",
    "\n",
    "dT = deltaA/(mass*cp)\n",
    "print(f\"dA:{deltaA}\")\n",
    "print(f\"Ночной перепад от среднего: {dT}\")\n",
    "print(f\"Ожидаемый минимум:{averageT+dT}\")"
   ]
  },
  {
   "cell_type": "code",
   "execution_count": 78,
   "metadata": {},
   "outputs": [
    {
     "name": "stdout",
     "output_type": "stream",
     "text": [
      "dA:1437085.044248588\n",
      "Дневной перепад от среднего: 22.177238337169566\n",
      "Ожидаемый максимум:294.76351339296446\n"
     ]
    }
   ],
   "source": [
    "tDay = orbitPeriod * (np.pi/2+angleSunSet)/(2*np.pi)\n",
    "\n",
    "heat = qs * 1.1\n",
    "\n",
    "deltaAday = (heat-summarHeat)*tDay\n",
    "dTday = deltaAday/(mass*cp)\n",
    "print(f\"dA:{deltaAday}\")\n",
    "print(f\"Дневной перепад от среднего: {dTday}\")\n",
    "print(f\"Ожидаемый максимум:{averageT+dTday}\")"
   ]
  },
  {
   "cell_type": "code",
   "execution_count": 79,
   "metadata": {},
   "outputs": [
    {
     "data": {
      "text/plain": [
       "17.206995770524312"
      ]
     },
     "execution_count": 79,
     "metadata": {},
     "output_type": "execute_result"
    }
   ],
   "source": [
    "tOver = 1000\n",
    "\n",
    "heat = qs * 1.1 + 300\n",
    "deltaAover = (heat-summarHeat)*tOver\n",
    "dTover = deltaAover/(mass*cp)\n",
    "\n",
    "dTover"
   ]
  },
  {
   "cell_type": "code",
   "execution_count": null,
   "metadata": {},
   "outputs": [],
   "source": []
  }
 ],
 "metadata": {
  "kernelspec": {
   "display_name": "Python 3",
   "language": "python",
   "name": "python3"
  },
  "language_info": {
   "codemirror_mode": {
    "name": "ipython",
    "version": 3
   },
   "file_extension": ".py",
   "mimetype": "text/x-python",
   "name": "python",
   "nbconvert_exporter": "python",
   "pygments_lexer": "ipython3",
   "version": "3.10.6"
  }
 },
 "nbformat": 4,
 "nbformat_minor": 2
}
