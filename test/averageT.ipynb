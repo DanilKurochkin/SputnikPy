{
 "cells": [
  {
   "cell_type": "code",
   "execution_count": 329,
   "metadata": {},
   "outputs": [],
   "source": [
    "import numpy as np\n",
    "#зенит, надир, перпенд1, перперн2, теневая, солнечная\n",
    "As = [0.4] * 6 #\n",
    "e = [0.2] * 6 #\n",
    "\n",
    "qs = 1500\n",
    "\n",
    "Lx = 1\n",
    "Ly = 1\n",
    "Lz = 1\n",
    "\n",
    "externalHeatAverage = 0\n",
    "\n",
    "orbitRadius = 500"
   ]
  },
  {
   "cell_type": "code",
   "execution_count": 330,
   "metadata": {},
   "outputs": [],
   "source": [
    "orbitRadius *= 1000\n",
    "earthRaduius = 6371000\n",
    "angleSunSet = np.arccos(earthRaduius/(earthRaduius+orbitRadius))\n",
    "sigma = np.float64(5.67*10**(-8))\n",
    "\n",
    "areas = [Ly*Lz, Ly*Lz,\n",
    "        Lx*Lz, Lx*Lz,\n",
    "        Lx*Ly, Lx*Ly]\n",
    "summarHeat = 0\n",
    "summarHeat += areas[0] * As[0] #зенит\n",
    "summarHeat += areas[5] * As[5] #солнечная до 6 часов\n",
    "summarHeat += np.sin(angleSunSet) * areas[2] * As[2] #надир после 6 часов\n",
    "summarHeat += (1 - np.cos(angleSunSet)) * areas[5] * As[5] #после до 6 часов\n",
    "summarHeat *= qs/np.pi\n",
    "\n",
    "summarHeat += (externalHeatAverage * (4+6+12))"
   ]
  },
  {
   "cell_type": "code",
   "execution_count": 331,
   "metadata": {},
   "outputs": [],
   "source": [
    "summarRadiation = 0\n",
    "\n",
    "for i in np.arange(len(areas)):\n",
    "    summarRadiation += areas[i] * e[i]"
   ]
  },
  {
   "cell_type": "code",
   "execution_count": 332,
   "metadata": {},
   "outputs": [],
   "source": [
    "averageT = (summarHeat/(summarRadiation*sigma))**(1/4)"
   ]
  },
  {
   "cell_type": "code",
   "execution_count": 333,
   "metadata": {},
   "outputs": [
    {
     "name": "stdout",
     "output_type": "stream",
     "text": [
      "Средневитковое [количество тепла/c] : 1770.2511629108312\n",
      "Суммарный коэффициент излучения: 4.400000000000001\n",
      "Средняя температура: 290.23500305582144\n"
     ]
    }
   ],
   "source": [
    "print(f\"Средневитковое [количество тепла/c] : {summarHeat}\")\n",
    "print(f\"Суммарный коэффициент излучения: {summarRadiation}\")\n",
    "print(f\"Средняя температура: {averageT}\")"
   ]
  },
  {
   "cell_type": "code",
   "execution_count": null,
   "metadata": {},
   "outputs": [],
   "source": []
  }
 ],
 "metadata": {
  "kernelspec": {
   "display_name": "Python 3",
   "language": "python",
   "name": "python3"
  },
  "language_info": {
   "codemirror_mode": {
    "name": "ipython",
    "version": 3
   },
   "file_extension": ".py",
   "mimetype": "text/x-python",
   "name": "python",
   "nbconvert_exporter": "python",
   "pygments_lexer": "ipython3",
   "version": "3.10.6"
  }
 },
 "nbformat": 4,
 "nbformat_minor": 2
}
