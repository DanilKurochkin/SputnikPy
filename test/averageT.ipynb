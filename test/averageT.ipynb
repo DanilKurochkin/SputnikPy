{
 "cells": [
  {
   "cell_type": "code",
   "execution_count": 16,
   "metadata": {},
   "outputs": [],
   "source": [
    "import numpy as np\n",
    "#зенит, надир, перпенд1, перперн2, теневая, солнечная\n",
    "\n",
    "#средняя для куба\n",
    "#средняя для параллепипида\n",
    "#средняя для куба с нагрузкой\n",
    "#средняя для параллепипида с нагрузкой\n",
    "\n",
    "As = np.array([0.9] * 6) #\n",
    "e = np.array([0.5] * 6) #\n",
    "\n",
    "qs = np.float64(1500)\n",
    "\n",
    "Lx = np.float64(1)\n",
    "Ly = np.float64(2)\n",
    "Lz = np.float64(3)\n",
    "\n",
    "externalHeatAverage = np.float64(500)\n",
    "\n",
    "orbitRadius = np.float64(500)"
   ]
  },
  {
   "cell_type": "code",
   "execution_count": 17,
   "metadata": {},
   "outputs": [],
   "source": [
    "orbitRadius *= 1000\n",
    "earthRaduius = np.float64(6371000)\n",
    "angleSunSet = np.arccos(earthRaduius/(earthRaduius+orbitRadius))\n",
    "sigma = np.float64(5.67*10**(-8))\n",
    "\n",
    "areas = np.array([Ly*Lz, Ly*Lz,\n",
    "                Lx*Lz, Lx*Lz,\n",
    "                Lx*Ly, Lx*Ly])\n",
    "summarHeat = 0\n",
    "summarHeat += areas[0] * As[0] #зенит\n",
    "summarHeat += areas[5] * As[5] #солнечная до 6 часов\n",
    "summarHeat += np.sin(angleSunSet) * areas[1] * As[1] #надир после 6 часов\n",
    "summarHeat += (1 - np.cos(angleSunSet)) * areas[5] * As[5] #после до 6 часов\n",
    "summarHeat *= qs/np.pi\n",
    "\n",
    "summarHeat += externalHeatAverage"
   ]
  },
  {
   "cell_type": "code",
   "execution_count": 18,
   "metadata": {},
   "outputs": [],
   "source": [
    "summarRadiation = 0\n",
    "\n",
    "for i in np.arange(len(areas)):\n",
    "    summarRadiation += areas[i] * e[i] * sigma"
   ]
  },
  {
   "cell_type": "code",
   "execution_count": 19,
   "metadata": {},
   "outputs": [],
   "source": [
    "averageT = (summarHeat/summarRadiation)**(0.25)"
   ]
  },
  {
   "cell_type": "code",
   "execution_count": 20,
   "metadata": {},
   "outputs": [
    {
     "name": "stdout",
     "output_type": "stream",
     "text": [
      "Средневитковое [количество теплоты/c] : 4965.8425881545645\n",
      "Суммарный коэффициент излучения: 11.000000000000002\n",
      "Средняя температура: 298.7131221924365\n"
     ]
    }
   ],
   "source": [
    "print(f\"Средневитковое [количество теплоты/c] : {summarHeat}\")\n",
    "print(f\"Суммарный коэффициент излучения: {summarRadiation/sigma}\")\n",
    "print(f\"Средняя температура: {averageT}\")"
   ]
  },
  {
   "cell_type": "code",
   "execution_count": null,
   "metadata": {},
   "outputs": [],
   "source": []
  }
 ],
 "metadata": {
  "kernelspec": {
   "display_name": "Python 3",
   "language": "python",
   "name": "python3"
  },
  "language_info": {
   "codemirror_mode": {
    "name": "ipython",
    "version": 3
   },
   "file_extension": ".py",
   "mimetype": "text/x-python",
   "name": "python",
   "nbconvert_exporter": "python",
   "pygments_lexer": "ipython3",
   "version": "3.10.6"
  }
 },
 "nbformat": 4,
 "nbformat_minor": 2
}
