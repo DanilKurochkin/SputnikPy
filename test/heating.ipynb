{
 "cells": [
  {
   "cell_type": "code",
   "execution_count": 4,
   "metadata": {},
   "outputs": [
    {
     "data": {
      "text/plain": [
       "[1138.3333333333335, 1971.6666666666667, 2805.0]"
      ]
     },
     "execution_count": 4,
     "metadata": {},
     "output_type": "execute_result"
    }
   ],
   "source": [
    "t = 5000\n",
    "\n",
    "p = 1000\n",
    "c = 1000\n",
    "S = [6, 3, 2]\n",
    "l = 0.001\n",
    "Q = 1000\n",
    "T0 = 305\n",
    "dT = []\n",
    "for s in S:\n",
    "    dT.append(Q*t/(p*c*l*s)+T0)\n",
    "\n",
    "dT"
   ]
  },
  {
   "cell_type": "code",
   "execution_count": null,
   "metadata": {},
   "outputs": [],
   "source": []
  }
 ],
 "metadata": {
  "kernelspec": {
   "display_name": "Python 3",
   "language": "python",
   "name": "python3"
  },
  "language_info": {
   "codemirror_mode": {
    "name": "ipython",
    "version": 3
   },
   "file_extension": ".py",
   "mimetype": "text/x-python",
   "name": "python",
   "nbconvert_exporter": "python",
   "pygments_lexer": "ipython3",
   "version": "3.10.6"
  }
 },
 "nbformat": 4,
 "nbformat_minor": 2
}
