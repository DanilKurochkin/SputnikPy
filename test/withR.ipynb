{
 "cells": [
  {
   "cell_type": "code",
   "execution_count": 33,
   "metadata": {},
   "outputs": [],
   "source": [
    "import numpy as np\n"
   ]
  },
  {
   "cell_type": "code",
   "execution_count": 34,
   "metadata": {},
   "outputs": [],
   "source": [
    "sigma = np.float64(5.67*10**(-8))\n",
    "earth_radius = np.float64(6371000)\n",
    "earth_mass = np.float64(5.976 * 10**24)\n",
    "G = np.float64(6.67 * 10**(-11))\n",
    "\n",
    "As = np.array([0.6] * 6) #\n",
    "e = np.array([0.4] * 6) #\n",
    "qs = np.float64(1367)\n",
    "generationHeat = np.array([50] * 6)\n",
    "\n",
    "width = 0.005\n",
    "Lx = np.float64(1)\n",
    "Ly = np.float64(1)\n",
    "Lz = np.float64(1)\n",
    "R_value = 2\n",
    "\n",
    "c = 800\n",
    "p = 2700\n",
    "\n",
    "orbit_radius = np.float64(500)\n"
   ]
  },
  {
   "cell_type": "code",
   "execution_count": 35,
   "metadata": {},
   "outputs": [
    {
     "data": {
      "text/plain": [
       "array([311.07776865, 147.77137832,  50.        ,  50.        ,\n",
       "        50.        , 330.07629642])"
      ]
     },
     "execution_count": 35,
     "metadata": {},
     "output_type": "execute_result"
    }
   ],
   "source": [
    "Qav = np.zeros(6)\n",
    "Qav += generationHeat\n",
    "Qav\n",
    "\n",
    "orbit_radius *= 1000\n",
    "angleSunSet = np.arccos(earth_radius/(earth_radius+orbit_radius))\n",
    "sigma = np.float64(5.67*10**(-8))\n",
    "\n",
    "areas = np.array([Ly*Lz, Ly*Lz,\n",
    "                Lx*Lz, Lx*Lz,\n",
    "                Lx*Ly, Lx*Ly])\n",
    "\n",
    "Qav[0] += areas[0] * As[0] * qs/np.pi #зенит\n",
    "Qav[5] += areas[5] * As[5] * qs/np.pi #солнечная до 6 часов\n",
    "Qav[1] += np.sin(angleSunSet) * areas[1] * As[1] * qs/np.pi #надир после 6 часов\n",
    "Qav[5] += (1 - np.cos(angleSunSet)) * areas[5] * As[5] * qs/np.pi #после до 6 часов\n",
    "\n",
    "Qav\n"
   ]
  },
  {
   "cell_type": "code",
   "execution_count": 36,
   "metadata": {},
   "outputs": [
    {
     "data": {
      "text/plain": [
       "array([629.96898193, 629.96898193,  50.        ,  50.        ,\n",
       "        50.        , 629.96898193])"
      ]
     },
     "execution_count": 36,
     "metadata": {},
     "output_type": "execute_result"
    }
   ],
   "source": [
    "Qex = np.zeros(6)\n",
    "Qex[0] += qs * As[0] * areas[0] * np.sqrt(2)/2\n",
    "Qex[1] += qs * As[1] * areas[1] * np.sqrt(2)/2\n",
    "Qex[5] += qs * As[5] * areas[5] * np.sqrt(2)/2\n",
    "\n",
    "Qex += generationHeat\n",
    "Qex\n"
   ]
  },
  {
   "cell_type": "code",
   "execution_count": 37,
   "metadata": {},
   "outputs": [
    {
     "data": {
      "text/plain": [
       "288.2101037950334"
      ]
     },
     "execution_count": 37,
     "metadata": {},
     "output_type": "execute_result"
    }
   ],
   "source": [
    "Qsum = np.sum(Qav)\n",
    "\n",
    "radiationCoef = np.sum(e[:]*areas[:]*areas[:]*sigma)\n",
    "Tav = (Qsum/radiationCoef)**0.25\n",
    "Tav\n"
   ]
  },
  {
   "cell_type": "code",
   "execution_count": 38,
   "metadata": {},
   "outputs": [
    {
     "data": {
      "text/plain": [
       "array([[1.e+24, 1.e+24, 2.e+00, 2.e+00, 2.e+00, 2.e+00],\n",
       "       [1.e+24, 1.e+24, 2.e+00, 2.e+00, 2.e+00, 2.e+00],\n",
       "       [2.e+00, 2.e+00, 1.e+24, 1.e+24, 2.e+00, 2.e+00],\n",
       "       [2.e+00, 2.e+00, 1.e+24, 1.e+24, 2.e+00, 2.e+00],\n",
       "       [2.e+00, 2.e+00, 2.e+00, 2.e+00, 1.e+24, 1.e+24],\n",
       "       [2.e+00, 2.e+00, 2.e+00, 2.e+00, 1.e+24, 1.e+24]])"
      ]
     },
     "execution_count": 38,
     "metadata": {},
     "output_type": "execute_result"
    }
   ],
   "source": [
    "R = R_value * np.ones(shape=(6,6))\n",
    "for i in range(6):\n",
    "    R[i][i] = 10**24\n",
    "for i in range(3):\n",
    "    R[2*i+1][2*i] = 10**24\n",
    "    R[2*i][2*i+1] = 10**24\n",
    "R\n"
   ]
  },
  {
   "cell_type": "code",
   "execution_count": 39,
   "metadata": {},
   "outputs": [
    {
     "data": {
      "text/plain": [
       "array([13.5, 13.5, 13.5, 13.5, 13.5, 13.5])"
      ]
     },
     "execution_count": 39,
     "metadata": {},
     "output_type": "execute_result"
    }
   ],
   "source": [
    "mass = p*width*areas[:]\n",
    "mass\n"
   ]
  },
  {
   "cell_type": "code",
   "execution_count": 40,
   "metadata": {},
   "outputs": [],
   "source": [
    "radius = earth_radius*1000 + earth_radius # в метры\n",
    "velocity = np.sqrt(G * earth_mass / radius) # скорость \n",
    "length = 2*np.pi*radius #длина орбиты\n",
    "period = length/velocity #период полного оборота\n",
    "\n",
    "tDay = period * (np.pi/2+angleSunSet)/(2*np.pi)\n"
   ]
  },
  {
   "cell_type": "code",
   "execution_count": 41,
   "metadata": {},
   "outputs": [
    {
     "data": {
      "text/plain": [
       "array([[6.0002166e+00, 5.0000000e-25, 2.5000000e-01, 2.5000000e-01,\n",
       "        2.5000000e-01, 2.5000000e-01],\n",
       "       [5.0000000e-25, 6.0002166e+00, 2.5000000e-01, 2.5000000e-01,\n",
       "        2.5000000e-01, 2.5000000e-01],\n",
       "       [2.5000000e-01, 2.5000000e-01, 6.0002166e+00, 5.0000000e-25,\n",
       "        2.5000000e-01, 2.5000000e-01],\n",
       "       [2.5000000e-01, 2.5000000e-01, 5.0000000e-25, 6.0002166e+00,\n",
       "        2.5000000e-01, 2.5000000e-01],\n",
       "       [2.5000000e-01, 2.5000000e-01, 2.5000000e-01, 2.5000000e-01,\n",
       "        6.0002166e+00, 5.0000000e-25],\n",
       "       [2.5000000e-01, 2.5000000e-01, 2.5000000e-01, 2.5000000e-01,\n",
       "        5.0000000e-25, 6.0002166e+00]])"
      ]
     },
     "execution_count": 41,
     "metadata": {},
     "output_type": "execute_result"
    }
   ],
   "source": [
    "m = 1/2/R\n",
    "for i in range(6):\n",
    "    m[i][i] = np.sum(1/R/2) + c*mass[i]/tDay\n",
    "m\n"
   ]
  },
  {
   "cell_type": "code",
   "execution_count": 42,
   "metadata": {},
   "outputs": [
    {
     "data": {
      "text/plain": [
       "array([3.18953640e+02, 4.82260030e+02, 6.24267690e-02, 6.24267690e-02,\n",
       "       6.24267690e-02, 2.99955112e+02])"
      ]
     },
     "execution_count": 42,
     "metadata": {},
     "output_type": "execute_result"
    }
   ],
   "source": [
    "d = Qex[:] - Qav[:] + Tav*c*mass[:]/tDay\n",
    "d\n"
   ]
  },
  {
   "cell_type": "code",
   "execution_count": 43,
   "metadata": {},
   "outputs": [
    {
     "data": {
      "text/plain": [
       "array([340.28530739, 367.50205657, 281.07029384, 281.07029384,\n",
       "       283.34203664, 333.32234659])"
      ]
     },
     "execution_count": 43,
     "metadata": {},
     "output_type": "execute_result"
    }
   ],
   "source": [
    "from scipy import linalg\n",
    "linalg.solve(m, d) + Tav\n"
   ]
  },
  {
   "cell_type": "code",
   "execution_count": 48,
   "metadata": {},
   "outputs": [
    {
     "data": {
      "text/plain": [
       "array([50, 50, 50, 50, 50, 50])"
      ]
     },
     "execution_count": 48,
     "metadata": {},
     "output_type": "execute_result"
    }
   ],
   "source": [
    "Qex = generationHeat\n",
    "Qex\n"
   ]
  },
  {
   "cell_type": "code",
   "execution_count": 49,
   "metadata": {},
   "outputs": [],
   "source": [
    "tNight = period - tDay\n",
    "\n",
    "m = 1/2/R\n",
    "for i in range(6):\n",
    "    m[i][i] = np.sum(1/R/2) + c*mass[i]/tNight\n",
    "\n",
    "d = Qex[:] - Qav[:] + Tav*c*mass[:]/tNight\n"
   ]
  },
  {
   "cell_type": "code",
   "execution_count": 51,
   "metadata": {},
   "outputs": [
    {
     "data": {
      "text/plain": [
       "array([246.13215207, 273.3494401 , 292.36286566, 292.36286566,\n",
       "       290.24114786, 243.56252607])"
      ]
     },
     "execution_count": 51,
     "metadata": {},
     "output_type": "execute_result"
    }
   ],
   "source": [
    "from scipy import linalg\n",
    "linalg.solve(m, d) + Tav\n"
   ]
  },
  {
   "cell_type": "code",
   "execution_count": null,
   "metadata": {},
   "outputs": [],
   "source": []
  }
 ],
 "metadata": {
  "kernelspec": {
   "display_name": "Python 3",
   "language": "python",
   "name": "python3"
  },
  "language_info": {
   "codemirror_mode": {
    "name": "ipython",
    "version": 3
   },
   "file_extension": ".py",
   "mimetype": "text/x-python",
   "name": "python",
   "nbconvert_exporter": "python",
   "pygments_lexer": "ipython3",
   "version": "3.10.6"
  }
 },
 "nbformat": 4,
 "nbformat_minor": 2
}
