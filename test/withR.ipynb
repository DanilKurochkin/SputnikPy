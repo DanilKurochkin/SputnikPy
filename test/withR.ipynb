{
 "cells": [
  {
   "cell_type": "code",
   "execution_count": 29,
   "metadata": {},
   "outputs": [],
   "source": [
    "import numpy as np\n"
   ]
  },
  {
   "cell_type": "code",
   "execution_count": 30,
   "metadata": {},
   "outputs": [],
   "source": [
    "sigma = np.float64(5.67*10**(-8))\n",
    "earth_radius = np.float64(6371000)\n",
    "earth_mass = np.float64(5.976 * 10**24)\n",
    "G = np.float64(6.67 * 10**(-11))\n",
    "albedo_coef = 0.3\n",
    "earth_radiation = 240\n",
    "\n",
    "As = np.array([0.1,0.1,0.1,0.5,0.5,0.9]) \n",
    "e = np.array([0.1,0.1,0.1,0.9,0.9,0.9]) \n",
    "qs = np.float64(1367)\n",
    "generationHeat = np.array([50] * 6)\n",
    "\n",
    "width = 0.005\n",
    "Lx = np.float64(1)\n",
    "Ly = np.float64(1)\n",
    "Lz = np.float64(1)\n",
    "R_value = 2\n",
    "\n",
    "c = 800\n",
    "p = 2700\n",
    "\n",
    "height_above_Earth = np.float64(500)*1000\n",
    "labels = [\"Зенит\", \"Надир\", \"Перпенд 1\", \"Перпенд 2\", \"Теневая\", \"Солнечная\"]\n"
   ]
  },
  {
   "cell_type": "code",
   "execution_count": 31,
   "metadata": {},
   "outputs": [
    {
     "data": {
      "text/plain": [
       "(0.38384819529001624, 3526.626721270226, 5668.153198351584)"
      ]
     },
     "execution_count": 31,
     "metadata": {},
     "output_type": "execute_result"
    }
   ],
   "source": [
    "radius = height_above_Earth + earth_radius # в метры\n",
    "velocity = np.sqrt(G * earth_mass / radius) # скорость \n",
    "length = 2*np.pi*radius #длина орбиты\n",
    "period = length/velocity #период полного оборота\n",
    "\n",
    "angleSunSet = np.arccos(earth_radius/(earth_radius+height_above_Earth))\n",
    "tDay = period * (np.pi/2+angleSunSet)/np.pi\n",
    "\n",
    "angleSunSet, tDay, period\n"
   ]
  },
  {
   "cell_type": "code",
   "execution_count": 32,
   "metadata": {},
   "outputs": [
    {
     "data": {
      "text/plain": [
       "array([1., 1., 1., 1., 1., 1.])"
      ]
     },
     "execution_count": 32,
     "metadata": {},
     "output_type": "execute_result"
    }
   ],
   "source": [
    "areas = np.array([Ly*Lz, Ly*Lz,\n",
    "                Lx*Lz, Lx*Lz,\n",
    "                Lx*Ly, Lx*Ly])\n",
    "\n",
    "areas\n"
   ]
  },
  {
   "cell_type": "code",
   "execution_count": 33,
   "metadata": {},
   "outputs": [
    {
     "data": {
      "text/plain": [
       "array([13.5, 13.5, 13.5, 13.5, 13.5, 13.5])"
      ]
     },
     "execution_count": 33,
     "metadata": {},
     "output_type": "execute_result"
    }
   ],
   "source": [
    "mass = p*width*areas[:]\n",
    "mass\n"
   ]
  },
  {
   "cell_type": "code",
   "execution_count": 34,
   "metadata": {},
   "outputs": [
    {
     "name": "stdout",
     "output_type": "stream",
     "text": [
      "Зенит:93.5129614413242\n",
      "Надир:86.85445837237475\n",
      "Перпенд 1:50.0\n",
      "Перпенд 2:50.0\n",
      "Теневая:50.0\n",
      "Солнечная:588.2737204573177\n"
     ]
    }
   ],
   "source": [
    "Qav = np.zeros(6)\n",
    "Qav += generationHeat\n",
    "Qav\n",
    "\n",
    "# От солнца\n",
    "Qav[0]+=areas[0]*As[0]*qs/np.pi #зенит\n",
    "Qav[1]+=areas[1]*As[1]*(1-np.cos(angleSunSet))*qs/np.pi #надир после 6 часов\n",
    "Qav[5]+=areas[5]*As[5]*(1+np.sin(angleSunSet))*qs/np.pi #после до 6 часов\n",
    "\n",
    "#От солнечного альбедо\n",
    "Qav[1]+=As[1]*areas[1]*albedo_coef*qs/np.pi\n",
    "\n",
    "#От земли\n",
    "Qav[1]+=e[1]*areas[1]*earth_radiation*earth_radius**2/radius**2\n",
    "for i in range(6):\n",
    "    print(f\"{labels[i]}:{str(Qav[i])}\")\n"
   ]
  },
  {
   "cell_type": "code",
   "execution_count": 35,
   "metadata": {},
   "outputs": [
    {
     "data": {
      "text/plain": [
       "array([[1.e+46, 1.e+46, 2.e+00, 2.e+00, 2.e+00, 2.e+00],\n",
       "       [1.e+46, 1.e+46, 2.e+00, 2.e+00, 2.e+00, 2.e+00],\n",
       "       [2.e+00, 2.e+00, 1.e+46, 1.e+46, 2.e+00, 2.e+00],\n",
       "       [2.e+00, 2.e+00, 1.e+46, 1.e+46, 2.e+00, 2.e+00],\n",
       "       [2.e+00, 2.e+00, 2.e+00, 2.e+00, 1.e+46, 1.e+46],\n",
       "       [2.e+00, 2.e+00, 2.e+00, 2.e+00, 1.e+46, 1.e+46]])"
      ]
     },
     "execution_count": 35,
     "metadata": {},
     "output_type": "execute_result"
    }
   ],
   "source": [
    "R = R_value * np.ones(shape=(6,6))\n",
    "for i in range(6):\n",
    "    R[i][i] = 10**46\n",
    "for i in range(3):\n",
    "    R[2*i+1][2*i] = 10**46\n",
    "    R[2*i][2*i+1] = 10**46\n",
    "R\n"
   ]
  },
  {
   "cell_type": "code",
   "execution_count": 36,
   "metadata": {},
   "outputs": [
    {
     "name": "stdout",
     "output_type": "stream",
     "text": [
      "Total: 61 iteration\n",
      "Зенит средняя темпераутра: 292.39K\n",
      "Надир средняя темпераутра: 289.79K\n",
      "Перпенд 1 средняя темпераутра: 287.53K\n",
      "Перпенд 2 средняя темпераутра: 232.43K\n",
      "Теневая средняя темпераутра: 229.61K\n",
      "Солнечная средняя темпераутра: 315.82K\n"
     ]
    }
   ],
   "source": [
    "Tav = 300*np.ones(6)\n",
    "\n",
    "eps = 0.001\n",
    "eps_curr = 100\n",
    "iter = 0\n",
    "\n",
    "alpha = 0.2\n",
    "\n",
    "while eps < eps_curr:\n",
    "    eps_curr = -1\n",
    "    iter += 1\n",
    "    for i in range(6):\n",
    "\n",
    "        newT = (1.0-alpha)*Tav[i] + alpha*(Qav[i] + np.sum(Tav/R[i])) / (sigma*Tav[i]**3*areas[i]*e[i]+np.sum(1/R[i]))\n",
    "        eps_curr = max(np.abs(newT - Tav[i]), eps_curr)\n",
    "        Tav[i] = newT\n",
    "\n",
    "print(f\"Total: {iter} iteration\")\n",
    "\n",
    "for i in range(len(labels)):\n",
    "    print(f\"{labels[i]} средняя темпераутра: {Tav[i]:5.2f}K\")\n"
   ]
  },
  {
   "cell_type": "code",
   "execution_count": 37,
   "metadata": {},
   "outputs": [
    {
     "data": {
      "text/plain": [
       "array([146.66149699,  96.74192551,  50.        ,  50.        ,\n",
       "        50.        , 158.07083904])"
      ]
     },
     "execution_count": 37,
     "metadata": {},
     "output_type": "execute_result"
    }
   ],
   "source": [
    "Qex = np.zeros(6)\n",
    "Qex[0] += qs * As[0] * areas[0] * np.sqrt(2)/2\n",
    "Qex[5] += qs * As[1] * areas[1] * np.sqrt(2.5)/2\n",
    "Qex[1] += e[1]*areas[1]*earth_radiation*earth_radius**2/radius**2\n",
    "Qex[1] += 2*albedo_coef*qs*As[1]*areas[1]/np.pi\n",
    "Qex += generationHeat\n",
    "Qex\n"
   ]
  },
  {
   "cell_type": "code",
   "execution_count": 38,
   "metadata": {},
   "outputs": [
    {
     "data": {
      "text/plain": [
       "array([  53.14853555,    9.88746714,    0.        ,    0.        ,\n",
       "          0.        , -430.20288142])"
      ]
     },
     "execution_count": 38,
     "metadata": {},
     "output_type": "execute_result"
    }
   ],
   "source": [
    "Qex - Qav\n"
   ]
  },
  {
   "cell_type": "code",
   "execution_count": 39,
   "metadata": {},
   "outputs": [],
   "source": [
    "tDayCalculation = tDay/2\n"
   ]
  },
  {
   "cell_type": "code",
   "execution_count": 40,
   "metadata": {},
   "outputs": [],
   "source": [
    "m = np.zeros(R.shape)\n",
    "for i in range(6):\n",
    "    for j in range(6):\n",
    "        if i == j:\n",
    "            index = R[i] > 0\n",
    "            m[i][i] = np.abs(np.sum(1/R[i][index])) + c*mass[i]/tDayCalculation\n",
    "        else:\n",
    "            if R[i][j] != 0:\n",
    "                m[i][j] = -1/R[i][j]\n",
    "\n",
    "d = Qex[:] - Qav[:] + Tav[:]*c*mass[:]/tDayCalculation\n"
   ]
  },
  {
   "cell_type": "code",
   "execution_count": 41,
   "metadata": {},
   "outputs": [
    {
     "data": {
      "text/plain": [
       "1763.313360635113"
      ]
     },
     "execution_count": 41,
     "metadata": {},
     "output_type": "execute_result"
    }
   ],
   "source": [
    "tDayCalculation\n"
   ]
  },
  {
   "cell_type": "code",
   "execution_count": 42,
   "metadata": {},
   "outputs": [
    {
     "data": {
      "text/plain": [
       "array([[ 8.12483308e+00, -1.00000000e-46, -5.00000000e-01,\n",
       "        -5.00000000e-01, -5.00000000e-01, -5.00000000e-01],\n",
       "       [-1.00000000e-46,  8.12483308e+00, -5.00000000e-01,\n",
       "        -5.00000000e-01, -5.00000000e-01, -5.00000000e-01],\n",
       "       [-5.00000000e-01, -5.00000000e-01,  8.12483308e+00,\n",
       "        -1.00000000e-46, -5.00000000e-01, -5.00000000e-01],\n",
       "       [-5.00000000e-01, -5.00000000e-01, -1.00000000e-46,\n",
       "         8.12483308e+00, -5.00000000e-01, -5.00000000e-01],\n",
       "       [-5.00000000e-01, -5.00000000e-01, -5.00000000e-01,\n",
       "        -5.00000000e-01,  8.12483308e+00, -1.00000000e-46],\n",
       "       [-5.00000000e-01, -5.00000000e-01, -5.00000000e-01,\n",
       "        -5.00000000e-01, -1.00000000e-46,  8.12483308e+00]])"
      ]
     },
     "execution_count": 42,
     "metadata": {},
     "output_type": "execute_result"
    }
   ],
   "source": [
    "m\n"
   ]
  },
  {
   "cell_type": "code",
   "execution_count": 43,
   "metadata": {},
   "outputs": [
    {
     "data": {
      "text/plain": [
       "array([1843.9940605 , 1784.79897646, 1761.08297208, 1423.62077949,\n",
       "       1406.35112499, 1504.16800004])"
      ]
     },
     "execution_count": 43,
     "metadata": {},
     "output_type": "execute_result"
    }
   ],
   "source": [
    "d\n"
   ]
  },
  {
   "cell_type": "code",
   "execution_count": 44,
   "metadata": {},
   "outputs": [
    {
     "data": {
      "text/plain": [
       "array([289.47989928, 282.19420079, 282.27027623, 240.73561462,\n",
       "       240.45923177, 252.49847911])"
      ]
     },
     "execution_count": 44,
     "metadata": {},
     "output_type": "execute_result"
    }
   ],
   "source": [
    "from scipy import linalg\n",
    "Tmax = linalg.solve(m, d)\n",
    "\n",
    "Tmax\n"
   ]
  },
  {
   "cell_type": "code",
   "execution_count": 45,
   "metadata": {},
   "outputs": [
    {
     "data": {
      "text/plain": [
       "array([50, 70, 50, 50, 50, 50])"
      ]
     },
     "execution_count": 45,
     "metadata": {},
     "output_type": "execute_result"
    }
   ],
   "source": [
    "Qex = generationHeat\n",
    "Qex[1]+=e[1]*areas[1]*earth_radiation*earth_radius**2/radius**2\n",
    "\n",
    "Qex\n"
   ]
  },
  {
   "cell_type": "code",
   "execution_count": 46,
   "metadata": {},
   "outputs": [
    {
     "data": {
      "text/plain": [
       "array([ -43.51296144,  -16.85445837,    0.        ,    0.        ,\n",
       "          0.        , -538.27372046])"
      ]
     },
     "execution_count": 46,
     "metadata": {},
     "output_type": "execute_result"
    }
   ],
   "source": [
    "Qex - Qav\n"
   ]
  },
  {
   "cell_type": "code",
   "execution_count": 47,
   "metadata": {},
   "outputs": [],
   "source": [
    "tNight = (period - tDay)/2\n",
    "\n",
    "m = np.zeros(R.shape)\n",
    "for i in range(6):\n",
    "    for j in range(6):\n",
    "        if i == j:\n",
    "            index = R[i] > 0\n",
    "            m[i][i] = np.abs(np.sum(1/R[i][index]/2)) + c*mass[i]/tNight\n",
    "        else:\n",
    "            if R[i][j] != 0:\n",
    "                m[i][j] = -1/R[i][j]/2\n",
    "\n",
    "d = Qex[:] - Qav[:] + Tav[:]*c*mass[:]/tNight\n"
   ]
  },
  {
   "cell_type": "code",
   "execution_count": 48,
   "metadata": {},
   "outputs": [
    {
     "data": {
      "text/plain": [
       "array([285.05027339, 285.08803697, 285.65804885, 235.53055654,\n",
       "       233.51286336, 263.39304646])"
      ]
     },
     "execution_count": 48,
     "metadata": {},
     "output_type": "execute_result"
    }
   ],
   "source": [
    "from scipy import linalg\n",
    "Tmin = linalg.solve(m, d)\n",
    "\n",
    "Tmin\n"
   ]
  },
  {
   "cell_type": "code",
   "execution_count": 49,
   "metadata": {},
   "outputs": [
    {
     "name": "stdout",
     "output_type": "stream",
     "text": [
      "Зенит\n",
      "avg:292.39K min:285.05K max:289.48K \n",
      "Надир\n",
      "avg:289.79K min:285.09K max:282.19K \n",
      "Перпенд 1\n",
      "avg:287.53K min:285.66K max:282.27K \n",
      "Перпенд 2\n",
      "avg:232.43K min:235.53K max:240.74K \n",
      "Теневая\n",
      "avg:229.61K min:233.51K max:240.46K \n",
      "Солнечная\n",
      "avg:315.82K min:263.39K max:252.50K \n"
     ]
    }
   ],
   "source": [
    "labels_temp = [\"avg\", \"min\", \"max\"]\n",
    "Temps = [Tav, Tmin, Tmax]\n",
    "for i in range(len(labels)):\n",
    "    print(f\"{labels[i].capitalize()}\")\n",
    "    result = \"\"\n",
    "    for j in range(len(Temps)):\n",
    "        result +=f\"{labels_temp[j]}:{Temps[j][i]:5.2f}K \"\n",
    "    print(result)\n"
   ]
  },
  {
   "cell_type": "code",
   "execution_count": 22,
   "metadata": {},
   "outputs": [],
   "source": [
    "heat_capacity=mass*c\n"
   ]
  },
  {
   "cell_type": "code",
   "execution_count": 23,
   "metadata": {},
   "outputs": [
    {
     "data": {
      "text/plain": [
       "array([10800., 10800., 10800., 10800., 10800., 10800.])"
      ]
     },
     "execution_count": 23,
     "metadata": {},
     "output_type": "execute_result"
    }
   ],
   "source": [
    "heat_capacity\n"
   ]
  },
  {
   "cell_type": "code",
   "execution_count": 24,
   "metadata": {},
   "outputs": [],
   "source": [
    "for i in range(6):\n",
    "    for j in range(6):\n",
    "        if i == j:\n",
    "            index = R[i] > 0\n",
    "            m[i][i] = np.abs(np.sum(1/R[i][index]/2)) + heat_capacity[i]/tNight\n",
    "        else:\n",
    "            if R[i][j] != 0:\n",
    "                m[i][j] = -1/R[i][j]/2\n"
   ]
  },
  {
   "cell_type": "code",
   "execution_count": 25,
   "metadata": {},
   "outputs": [
    {
     "name": "stdout",
     "output_type": "stream",
     "text": [
      "80.3 µs ± 10.2 µs per loop (mean ± std. dev. of 7 runs, 10,000 loops each)\n"
     ]
    }
   ],
   "source": [
    "%%timeit\n",
    "\n",
    "for i in range(6):\n",
    "    for j in range(6):\n",
    "        if i == j:\n",
    "            m[i][i] = np.abs(np.sum(1/R[i])) + c*mass[i]/tDayCalculation\n",
    "        else:\n",
    "            m[i][j] = -1/R[i][j]\n",
    "\n",
    "d = Qex[:] - Qav[:] + Tav[:]*c*mass[:]/tDayCalculation\n"
   ]
  },
  {
   "cell_type": "code",
   "execution_count": 26,
   "metadata": {},
   "outputs": [
    {
     "data": {
      "text/plain": [
       "array([8.12483308, 8.12483308, 8.12483308, 8.12483308, 8.12483308,\n",
       "       8.12483308])"
      ]
     },
     "execution_count": 26,
     "metadata": {},
     "output_type": "execute_result"
    }
   ],
   "source": [
    "m[np.diag_indices_from(m)]\n"
   ]
  },
  {
   "cell_type": "code",
   "execution_count": 27,
   "metadata": {},
   "outputs": [
    {
     "data": {
      "text/plain": [
       "array([8.12483308, 8.12483308, 8.12483308, 8.12483308, 8.12483308,\n",
       "       8.12483308])"
      ]
     },
     "execution_count": 27,
     "metadata": {},
     "output_type": "execute_result"
    }
   ],
   "source": [
    "np.sum(1/R, axis=1) + c*mass[:]/tDayCalculation\n"
   ]
  },
  {
   "cell_type": "code",
   "execution_count": 28,
   "metadata": {},
   "outputs": [
    {
     "name": "stdout",
     "output_type": "stream",
     "text": [
      "31.1 µs ± 1.27 µs per loop (mean ± std. dev. of 7 runs, 10,000 loops each)\n"
     ]
    }
   ],
   "source": [
    "%%timeit\n",
    "\n",
    "m = -1/R\n",
    "m[np.diag_indices_from(m)] = np.sum(1/R, axis=1) + c*mass[:]/tDayCalculation\n"
   ]
  },
  {
   "cell_type": "code",
   "execution_count": 51,
   "metadata": {},
   "outputs": [],
   "source": [
    "import pandas as pd\n"
   ]
  },
  {
   "cell_type": "code",
   "execution_count": 52,
   "metadata": {},
   "outputs": [],
   "source": [
    "a = pd.DataFrame([1, 2, 3, 4, 5, 6])\n"
   ]
  },
  {
   "cell_type": "code",
   "execution_count": 53,
   "metadata": {},
   "outputs": [],
   "source": [
    "a.columns = ['a']\n"
   ]
  },
  {
   "cell_type": "code",
   "execution_count": 54,
   "metadata": {},
   "outputs": [
    {
     "data": {
      "text/html": [
       "<div>\n",
       "<style scoped>\n",
       "    .dataframe tbody tr th:only-of-type {\n",
       "        vertical-align: middle;\n",
       "    }\n",
       "\n",
       "    .dataframe tbody tr th {\n",
       "        vertical-align: top;\n",
       "    }\n",
       "\n",
       "    .dataframe thead th {\n",
       "        text-align: right;\n",
       "    }\n",
       "</style>\n",
       "<table border=\"1\" class=\"dataframe\">\n",
       "  <thead>\n",
       "    <tr style=\"text-align: right;\">\n",
       "      <th></th>\n",
       "      <th>a</th>\n",
       "    </tr>\n",
       "  </thead>\n",
       "  <tbody>\n",
       "    <tr>\n",
       "      <th>0</th>\n",
       "      <td>1</td>\n",
       "    </tr>\n",
       "    <tr>\n",
       "      <th>1</th>\n",
       "      <td>2</td>\n",
       "    </tr>\n",
       "    <tr>\n",
       "      <th>2</th>\n",
       "      <td>3</td>\n",
       "    </tr>\n",
       "    <tr>\n",
       "      <th>3</th>\n",
       "      <td>4</td>\n",
       "    </tr>\n",
       "    <tr>\n",
       "      <th>4</th>\n",
       "      <td>5</td>\n",
       "    </tr>\n",
       "    <tr>\n",
       "      <th>5</th>\n",
       "      <td>6</td>\n",
       "    </tr>\n",
       "  </tbody>\n",
       "</table>\n",
       "</div>"
      ],
      "text/plain": [
       "   a\n",
       "0  1\n",
       "1  2\n",
       "2  3\n",
       "3  4\n",
       "4  5\n",
       "5  6"
      ]
     },
     "execution_count": 54,
     "metadata": {},
     "output_type": "execute_result"
    }
   ],
   "source": [
    "a\n"
   ]
  },
  {
   "cell_type": "code",
   "execution_count": 56,
   "metadata": {},
   "outputs": [],
   "source": [
    "a['b'] = a['a'] + 2\n",
    "a['c'] = a['a'] + 2\n"
   ]
  },
  {
   "cell_type": "code",
   "execution_count": 58,
   "metadata": {},
   "outputs": [
    {
     "data": {
      "text/html": [
       "<div>\n",
       "<style scoped>\n",
       "    .dataframe tbody tr th:only-of-type {\n",
       "        vertical-align: middle;\n",
       "    }\n",
       "\n",
       "    .dataframe tbody tr th {\n",
       "        vertical-align: top;\n",
       "    }\n",
       "\n",
       "    .dataframe thead th {\n",
       "        text-align: right;\n",
       "    }\n",
       "</style>\n",
       "<table border=\"1\" class=\"dataframe\">\n",
       "  <thead>\n",
       "    <tr style=\"text-align: right;\">\n",
       "      <th></th>\n",
       "      <th>a</th>\n",
       "      <th>b</th>\n",
       "      <th>c</th>\n",
       "      <th>min</th>\n",
       "    </tr>\n",
       "  </thead>\n",
       "  <tbody>\n",
       "    <tr>\n",
       "      <th>0</th>\n",
       "      <td>1</td>\n",
       "      <td>3</td>\n",
       "      <td>3</td>\n",
       "      <td>3</td>\n",
       "    </tr>\n",
       "    <tr>\n",
       "      <th>1</th>\n",
       "      <td>2</td>\n",
       "      <td>4</td>\n",
       "      <td>4</td>\n",
       "      <td>4</td>\n",
       "    </tr>\n",
       "    <tr>\n",
       "      <th>2</th>\n",
       "      <td>3</td>\n",
       "      <td>5</td>\n",
       "      <td>5</td>\n",
       "      <td>5</td>\n",
       "    </tr>\n",
       "    <tr>\n",
       "      <th>3</th>\n",
       "      <td>4</td>\n",
       "      <td>6</td>\n",
       "      <td>6</td>\n",
       "      <td>6</td>\n",
       "    </tr>\n",
       "    <tr>\n",
       "      <th>4</th>\n",
       "      <td>5</td>\n",
       "      <td>7</td>\n",
       "      <td>7</td>\n",
       "      <td>7</td>\n",
       "    </tr>\n",
       "    <tr>\n",
       "      <th>5</th>\n",
       "      <td>6</td>\n",
       "      <td>8</td>\n",
       "      <td>8</td>\n",
       "      <td>8</td>\n",
       "    </tr>\n",
       "  </tbody>\n",
       "</table>\n",
       "</div>"
      ],
      "text/plain": [
       "   a  b  c  min\n",
       "0  1  3  3    3\n",
       "1  2  4  4    4\n",
       "2  3  5  5    5\n",
       "3  4  6  6    6\n",
       "4  5  7  7    7\n",
       "5  6  8  8    8"
      ]
     },
     "execution_count": 58,
     "metadata": {},
     "output_type": "execute_result"
    }
   ],
   "source": [
    "a['min'] = a[['a'] + ['b']].max(axis=1)\n",
    "a\n"
   ]
  },
  {
   "cell_type": "code",
   "execution_count": null,
   "metadata": {},
   "outputs": [],
   "source": []
  }
 ],
 "metadata": {
  "kernelspec": {
   "display_name": "Python 3",
   "language": "python",
   "name": "python3"
  },
  "language_info": {
   "codemirror_mode": {
    "name": "ipython",
    "version": 3
   },
   "file_extension": ".py",
   "mimetype": "text/x-python",
   "name": "python",
   "nbconvert_exporter": "python",
   "pygments_lexer": "ipython3",
   "version": "3.10.6"
  }
 },
 "nbformat": 4,
 "nbformat_minor": 2
}
