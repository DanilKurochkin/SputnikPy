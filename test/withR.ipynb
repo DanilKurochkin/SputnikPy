{
 "cells": [
  {
   "cell_type": "code",
   "execution_count": 263,
   "metadata": {},
   "outputs": [],
   "source": [
    "import numpy as np\n"
   ]
  },
  {
   "cell_type": "code",
   "execution_count": 264,
   "metadata": {},
   "outputs": [],
   "source": [
    "sigma = np.float64(5.67*10**(-8))\n",
    "earth_radius = np.float64(6371000)\n",
    "earth_mass = np.float64(5.976 * 10**24)\n",
    "G = np.float64(6.67 * 10**(-11))\n",
    "albedo_coef = 0.3\n",
    "earth_radiation = 240\n",
    "\n",
    "As = np.array([0.6] * 6) \n",
    "e = np.array([0.4] * 6) \n",
    "qs = np.float64(1367)\n",
    "generationHeat = np.array([50] * 6)\n",
    "\n",
    "width = 0.005\n",
    "Lx = np.float64(1)\n",
    "Ly = np.float64(1)\n",
    "Lz = np.float64(1)\n",
    "R_value = 2\n",
    "\n",
    "c = 800\n",
    "p = 2700\n",
    "\n",
    "height_above_Earth = np.float64(500)*1000\n",
    "labels = [\"Зенит\", \"Надир\", \"Перпенд 1\", \"Перпенд 2\", \"Теневая\", \"Солнечная\"]\n"
   ]
  },
  {
   "cell_type": "code",
   "execution_count": 265,
   "metadata": {},
   "outputs": [
    {
     "data": {
      "text/plain": [
       "(0.38384819529001624, 3526.626721270226, 5668.153198351584)"
      ]
     },
     "execution_count": 265,
     "metadata": {},
     "output_type": "execute_result"
    }
   ],
   "source": [
    "radius = height_above_Earth + earth_radius # в метры\n",
    "velocity = np.sqrt(G * earth_mass / radius) # скорость \n",
    "length = 2*np.pi*radius #длина орбиты\n",
    "period = length/velocity #период полного оборота\n",
    "\n",
    "angleSunSet = np.arccos(earth_radius/(earth_radius+height_above_Earth))\n",
    "tDay = period * (np.pi/2+angleSunSet)/np.pi\n",
    "\n",
    "angleSunSet, tDay, period\n"
   ]
  },
  {
   "cell_type": "code",
   "execution_count": 266,
   "metadata": {},
   "outputs": [
    {
     "data": {
      "text/plain": [
       "array([1., 1., 1., 1., 1., 1.])"
      ]
     },
     "execution_count": 266,
     "metadata": {},
     "output_type": "execute_result"
    }
   ],
   "source": [
    "areas = np.array([Ly*Lz, Ly*Lz,\n",
    "                Lx*Lz, Lx*Lz,\n",
    "                Lx*Ly, Lx*Ly])\n",
    "\n",
    "areas\n"
   ]
  },
  {
   "cell_type": "code",
   "execution_count": 267,
   "metadata": {},
   "outputs": [
    {
     "data": {
      "text/plain": [
       "array([13.5, 13.5, 13.5, 13.5, 13.5, 13.5])"
      ]
     },
     "execution_count": 267,
     "metadata": {},
     "output_type": "execute_result"
    }
   ],
   "source": [
    "mass = p*width*areas[:]\n",
    "mass\n"
   ]
  },
  {
   "cell_type": "code",
   "execution_count": 268,
   "metadata": {},
   "outputs": [
    {
     "name": "stdout",
     "output_type": "stream",
     "text": [
      "Зенит:311.0777686479451\n",
      "Надир:229.85845294508442\n",
      "Перпенд 1:50.0\n",
      "Перпенд 2:50.0\n",
      "Теневая:50.0\n",
      "Солнечная:408.8491469715451\n"
     ]
    }
   ],
   "source": [
    "Qav = np.zeros(6)\n",
    "Qav += generationHeat\n",
    "Qav\n",
    "\n",
    "# От солнца\n",
    "Qav[0]+=areas[0]*As[0]*qs/np.pi #зенит\n",
    "Qav[1]+=areas[1]*As[1]*(1-np.cos(angleSunSet))*qs/np.pi #надир после 6 часов\n",
    "Qav[5]+=areas[5]*As[5]*(1+np.sin(angleSunSet))*qs/np.pi #после до 6 часов\n",
    "\n",
    "#От солнечного альбедо\n",
    "Qav[1]+=As[1]*areas[1]*albedo_coef*qs/np.pi\n",
    "\n",
    "#От земли\n",
    "Qav[1]+=e[1]*areas[1]*earth_radiation*earth_radius**2/radius**2\n",
    "for i in range(6):\n",
    "    print(f\"{labels[i]}:{str(Qav[i])}\")\n"
   ]
  },
  {
   "cell_type": "code",
   "execution_count": 269,
   "metadata": {},
   "outputs": [
    {
     "data": {
      "text/plain": [
       "array([[1.e+46, 1.e+46, 2.e+00, 2.e+00, 2.e+00, 2.e+00],\n",
       "       [1.e+46, 1.e+46, 2.e+00, 2.e+00, 2.e+00, 2.e+00],\n",
       "       [2.e+00, 2.e+00, 1.e+46, 1.e+46, 2.e+00, 2.e+00],\n",
       "       [2.e+00, 2.e+00, 1.e+46, 1.e+46, 2.e+00, 2.e+00],\n",
       "       [2.e+00, 2.e+00, 2.e+00, 2.e+00, 1.e+46, 1.e+46],\n",
       "       [2.e+00, 2.e+00, 2.e+00, 2.e+00, 1.e+46, 1.e+46]])"
      ]
     },
     "execution_count": 269,
     "metadata": {},
     "output_type": "execute_result"
    }
   ],
   "source": [
    "R = R_value * np.ones(shape=(6,6))\n",
    "for i in range(6):\n",
    "    R[i][i] = 10**46\n",
    "for i in range(3):\n",
    "    R[2*i+1][2*i] = 10**46\n",
    "    R[2*i][2*i+1] = 10**46\n",
    "R\n"
   ]
  },
  {
   "cell_type": "code",
   "execution_count": 270,
   "metadata": {},
   "outputs": [
    {
     "name": "stdout",
     "output_type": "stream",
     "text": [
      "Total: 38 iteration\n",
      "Зенит средняя темпераутра: 321.37K\n",
      "Надир средняя темпераутра: 304.38K\n",
      "Перпенд 1 средняя темпераутра: 271.23K\n",
      "Перпенд 2 средняя темпераутра: 271.23K\n",
      "Теневая средняя темпераутра: 262.89K\n",
      "Солнечная средняя темпераутра: 341.77K\n"
     ]
    }
   ],
   "source": [
    "Tav = 300*np.ones(6)\n",
    "\n",
    "eps = 0.001\n",
    "eps_curr = 100\n",
    "iter = 0\n",
    "\n",
    "alpha = 0.2\n",
    "\n",
    "while eps < eps_curr:\n",
    "    eps_curr = -1\n",
    "    iter += 1\n",
    "    for i in range(6):\n",
    "\n",
    "        newT = (1.0-alpha)*Tav[i] + alpha*(Qav[i] + np.sum(Tav/R[i])) / (sigma*Tav[i]**3*areas[i]*e[i]+np.sum(1/R[i]))\n",
    "        eps_curr = max(np.abs(newT - Tav[i]), eps_curr)\n",
    "        Tav[i] = newT\n",
    "\n",
    "print(f\"Total: {iter} iteration\")\n",
    "\n",
    "for i in range(len(labels)):\n",
    "    print(f\"{labels[i]} средняя темпераутра: {Tav[i]:5.2f}K\")\n"
   ]
  },
  {
   "cell_type": "code",
   "execution_count": 271,
   "metadata": {},
   "outputs": [
    {
     "data": {
      "text/plain": [
       "array([629.96898193, 289.18325577,  50.        ,  50.        ,\n",
       "        50.        , 698.42503422])"
      ]
     },
     "execution_count": 271,
     "metadata": {},
     "output_type": "execute_result"
    }
   ],
   "source": [
    "Qex = np.zeros(6)\n",
    "Qex[0] += qs * As[0] * areas[0] * np.sqrt(2)/2\n",
    "Qex[5] += qs * As[1] * areas[1] * np.sqrt(2.5)/2\n",
    "Qex[1] += e[1]*areas[1]*earth_radiation*earth_radius**2/radius**2\n",
    "Qex[1] += 2*albedo_coef*qs*As[1]*areas[1]/np.pi\n",
    "Qex += generationHeat\n",
    "Qex\n"
   ]
  },
  {
   "cell_type": "code",
   "execution_count": 272,
   "metadata": {},
   "outputs": [
    {
     "data": {
      "text/plain": [
       "array([318.89121328,  59.32480282,   0.        ,   0.        ,\n",
       "         0.        , 289.57588725])"
      ]
     },
     "execution_count": 272,
     "metadata": {},
     "output_type": "execute_result"
    }
   ],
   "source": [
    "Qex - Qav\n"
   ]
  },
  {
   "cell_type": "code",
   "execution_count": 273,
   "metadata": {},
   "outputs": [],
   "source": [
    "tDayCalculation = tDay/2\n"
   ]
  },
  {
   "cell_type": "code",
   "execution_count": 274,
   "metadata": {},
   "outputs": [],
   "source": [
    "m = np.zeros(R.shape)\n",
    "for i in range(6):\n",
    "    for j in range(6):\n",
    "        if i == j:\n",
    "            index = R[i] > 0\n",
    "            m[i][i] = np.abs(np.sum(1/R[i][index])) + c*mass[i]/tDayCalculation\n",
    "        else:\n",
    "            if R[i][j] != 0:\n",
    "                m[i][j] = -1/R[i][j]\n",
    "\n",
    "d = Qex[:] - Qav[:] + Tav[:]*c*mass[:]/tDayCalculation\n"
   ]
  },
  {
   "cell_type": "code",
   "execution_count": 275,
   "metadata": {},
   "outputs": [
    {
     "data": {
      "text/plain": [
       "1763.313360635113"
      ]
     },
     "execution_count": 275,
     "metadata": {},
     "output_type": "execute_result"
    }
   ],
   "source": [
    "tDayCalculation\n"
   ]
  },
  {
   "cell_type": "code",
   "execution_count": 276,
   "metadata": {},
   "outputs": [
    {
     "data": {
      "text/plain": [
       "array([[ 8.12483308e+00, -1.00000000e-46, -5.00000000e-01,\n",
       "        -5.00000000e-01, -5.00000000e-01, -5.00000000e-01],\n",
       "       [-1.00000000e-46,  8.12483308e+00, -5.00000000e-01,\n",
       "        -5.00000000e-01, -5.00000000e-01, -5.00000000e-01],\n",
       "       [-5.00000000e-01, -5.00000000e-01,  8.12483308e+00,\n",
       "        -1.00000000e-46, -5.00000000e-01, -5.00000000e-01],\n",
       "       [-5.00000000e-01, -5.00000000e-01, -1.00000000e-46,\n",
       "         8.12483308e+00, -5.00000000e-01, -5.00000000e-01],\n",
       "       [-5.00000000e-01, -5.00000000e-01, -5.00000000e-01,\n",
       "        -5.00000000e-01,  8.12483308e+00, -1.00000000e-46],\n",
       "       [-5.00000000e-01, -5.00000000e-01, -5.00000000e-01,\n",
       "        -5.00000000e-01, -1.00000000e-46,  8.12483308e+00]])"
      ]
     },
     "execution_count": 276,
     "metadata": {},
     "output_type": "execute_result"
    }
   ],
   "source": [
    "m\n"
   ]
  },
  {
   "cell_type": "code",
   "execution_count": 277,
   "metadata": {},
   "outputs": [
    {
     "data": {
      "text/plain": [
       "array([2287.21625763, 1923.59257189, 1661.25066377, 1661.25066377,\n",
       "       1610.16652006, 2382.8346135 ])"
      ]
     },
     "execution_count": 277,
     "metadata": {},
     "output_type": "execute_result"
    }
   ],
   "source": [
    "d\n"
   ]
  },
  {
   "cell_type": "code",
   "execution_count": 278,
   "metadata": {},
   "outputs": [
    {
     "data": {
      "text/plain": [
       "array([356.23036007, 311.47575623, 285.17778408, 285.17778408,\n",
       "       274.36838894, 369.46795417])"
      ]
     },
     "execution_count": 278,
     "metadata": {},
     "output_type": "execute_result"
    }
   ],
   "source": [
    "from scipy import linalg\n",
    "Tmax = linalg.solve(m, d)\n",
    "\n",
    "Tmax\n"
   ]
  },
  {
   "cell_type": "code",
   "execution_count": 294,
   "metadata": {},
   "outputs": [
    {
     "data": {
      "text/plain": [
       "array([ 50, 296,  50,  50,  50,  50])"
      ]
     },
     "execution_count": 294,
     "metadata": {},
     "output_type": "execute_result"
    }
   ],
   "source": [
    "Qex = generationHeat\n",
    "Qex[1]+=e[1]*areas[1]*earth_radiation*earth_radius**2/radius**2\n",
    "\n",
    "Qex\n"
   ]
  },
  {
   "cell_type": "code",
   "execution_count": 280,
   "metadata": {},
   "outputs": [
    {
     "data": {
      "text/plain": [
       "array([-261.07776865,  -97.85845295,    0.        ,    0.        ,\n",
       "          0.        , -358.84914697])"
      ]
     },
     "execution_count": 280,
     "metadata": {},
     "output_type": "execute_result"
    }
   ],
   "source": [
    "Qex - Qav\n"
   ]
  },
  {
   "cell_type": "code",
   "execution_count": 281,
   "metadata": {},
   "outputs": [],
   "source": [
    "tNight = (period - tDay)/2\n",
    "\n",
    "m = np.zeros(R.shape)\n",
    "for i in range(6):\n",
    "    for j in range(6):\n",
    "        if i == j:\n",
    "            index = R[i] > 0\n",
    "            m[i][i] = np.abs(np.sum(1/R[i][index]/2)) + c*mass[i]/tNight\n",
    "        else:\n",
    "            if R[i][j] != 0:\n",
    "                m[i][j] = -1/R[i][j]/2\n",
    "\n",
    "d = Qex[:] - Qav[:] + Tav[:]*c*mass[:]/tNight\n"
   ]
  },
  {
   "cell_type": "code",
   "execution_count": 282,
   "metadata": {},
   "outputs": [
    {
     "data": {
      "text/plain": [
       "array([293.96305358, 293.22878397, 272.83542359, 272.83542359,\n",
       "       264.72476991, 304.11570522])"
      ]
     },
     "execution_count": 282,
     "metadata": {},
     "output_type": "execute_result"
    }
   ],
   "source": [
    "from scipy import linalg\n",
    "Tmin = linalg.solve(m, d)\n",
    "\n",
    "Tmin\n"
   ]
  },
  {
   "cell_type": "code",
   "execution_count": 283,
   "metadata": {},
   "outputs": [
    {
     "name": "stdout",
     "output_type": "stream",
     "text": [
      "Зенит\n",
      "avg:321.37K min:293.96K max:356.23K \n",
      "Надир\n",
      "avg:304.38K min:293.23K max:311.48K \n",
      "Перпенд 1\n",
      "avg:271.23K min:272.84K max:285.18K \n",
      "Перпенд 2\n",
      "avg:271.23K min:272.84K max:285.18K \n",
      "Теневая\n",
      "avg:262.89K min:264.72K max:274.37K \n",
      "Солнечная\n",
      "avg:341.77K min:304.12K max:369.47K \n"
     ]
    }
   ],
   "source": [
    "labels_temp = [\"avg\", \"min\", \"max\"]\n",
    "Temps = [Tav, Tmin, Tmax]\n",
    "for i in range(len(labels)):\n",
    "    print(f\"{labels[i].capitalize()}\")\n",
    "    result = \"\"\n",
    "    for j in range(len(Temps)):\n",
    "        result +=f\"{labels_temp[j]}:{Temps[j][i]:5.2f}K \"\n",
    "    print(result)\n"
   ]
  },
  {
   "cell_type": "code",
   "execution_count": 284,
   "metadata": {},
   "outputs": [],
   "source": [
    "heat_capacity=mass*c\n"
   ]
  },
  {
   "cell_type": "code",
   "execution_count": 285,
   "metadata": {},
   "outputs": [
    {
     "data": {
      "text/plain": [
       "array([10800., 10800., 10800., 10800., 10800., 10800.])"
      ]
     },
     "execution_count": 285,
     "metadata": {},
     "output_type": "execute_result"
    }
   ],
   "source": [
    "heat_capacity\n"
   ]
  },
  {
   "cell_type": "code",
   "execution_count": 286,
   "metadata": {},
   "outputs": [],
   "source": [
    "for i in range(6):\n",
    "    for j in range(6):\n",
    "        if i == j:\n",
    "            index = R[i] > 0\n",
    "            m[i][i] = np.abs(np.sum(1/R[i][index]/2)) + heat_capacity[i]/tNight\n",
    "        else:\n",
    "            if R[i][j] != 0:\n",
    "                m[i][j] = -1/R[i][j]/2\n"
   ]
  },
  {
   "cell_type": "code",
   "execution_count": 290,
   "metadata": {},
   "outputs": [
    {
     "name": "stdout",
     "output_type": "stream",
     "text": [
      "118 µs ± 356 ns per loop (mean ± std. dev. of 7 runs, 10,000 loops each)\n"
     ]
    }
   ],
   "source": [
    "%%timeit\n",
    "\n",
    "for i in range(6):\n",
    "    for j in range(6):\n",
    "        if i == j:\n",
    "            m[i][i] = np.abs(np.sum(1/R[i])) + c*mass[i]/tDayCalculation\n",
    "        else:\n",
    "            m[i][j] = -1/R[i][j]\n",
    "\n",
    "d = Qex[:] - Qav[:] + Tav[:]*c*mass[:]/tDayCalculation\n"
   ]
  },
  {
   "cell_type": "code",
   "execution_count": 288,
   "metadata": {},
   "outputs": [
    {
     "data": {
      "text/plain": [
       "array([8.12483308, 8.12483308, 8.12483308, 8.12483308, 8.12483308,\n",
       "       8.12483308])"
      ]
     },
     "execution_count": 288,
     "metadata": {},
     "output_type": "execute_result"
    }
   ],
   "source": [
    "m[np.diag_indices_from(m)]\n"
   ]
  },
  {
   "cell_type": "code",
   "execution_count": 289,
   "metadata": {},
   "outputs": [
    {
     "data": {
      "text/plain": [
       "array([8.12483308, 8.12483308, 8.12483308, 8.12483308, 8.12483308,\n",
       "       8.12483308])"
      ]
     },
     "execution_count": 289,
     "metadata": {},
     "output_type": "execute_result"
    }
   ],
   "source": [
    "np.sum(1/R, axis=1) + c*mass[:]/tDayCalculation\n"
   ]
  },
  {
   "cell_type": "code",
   "execution_count": 292,
   "metadata": {},
   "outputs": [
    {
     "name": "stdout",
     "output_type": "stream",
     "text": [
      "55.3 µs ± 1.76 µs per loop (mean ± std. dev. of 7 runs, 10,000 loops each)\n"
     ]
    }
   ],
   "source": [
    "%%timeit\n",
    "\n",
    "m = -1/R\n",
    "m[np.diag_indices_from(m)] = np.sum(1/R, axis=1) + c*mass[:]/tDayCalculation\n"
   ]
  },
  {
   "cell_type": "code",
   "execution_count": null,
   "metadata": {},
   "outputs": [],
   "source": []
  }
 ],
 "metadata": {
  "kernelspec": {
   "display_name": "Python 3",
   "language": "python",
   "name": "python3"
  },
  "language_info": {
   "codemirror_mode": {
    "name": "ipython",
    "version": 3
   },
   "file_extension": ".py",
   "mimetype": "text/x-python",
   "name": "python",
   "nbconvert_exporter": "python",
   "pygments_lexer": "ipython3",
   "version": "3.10.6"
  }
 },
 "nbformat": 4,
 "nbformat_minor": 2
}
